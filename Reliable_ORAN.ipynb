{
  "nbformat": 4,
  "nbformat_minor": 0,
  "metadata": {
    "colab": {
      "name": "Reliable_ORAN",
      "provenance": [],
      "collapsed_sections": [],
      "toc_visible": true,
      "include_colab_link": true
    },
    "kernelspec": {
      "name": "python3",
      "display_name": "Python 3"
    },
    "language_info": {
      "name": "python"
    }
  },
  "cells": [
    {
      "cell_type": "markdown",
      "metadata": {
        "id": "view-in-github",
        "colab_type": "text"
      },
      "source": [
        "<a href=\"https://colab.research.google.com/github/huyduong/GNNetworkingChallenge/blob/main/Reliable_ORAN.ipynb\" target=\"_parent\"><img src=\"https://colab.research.google.com/assets/colab-badge.svg\" alt=\"Open In Colab\"/></a>"
      ]
    },
    {
      "cell_type": "markdown",
      "metadata": {
        "id": "3wMvUeFyb7So"
      },
      "source": [
        "# Enviroment Setup - Server and VNF Size Control\n"
      ]
    },
    {
      "cell_type": "code",
      "metadata": {
        "id": "n_oN7owvakOR",
        "colab": {
          "base_uri": "https://localhost:8080/",
          "height": 234
        },
        "outputId": "61fcc7b8-1f6e-412c-d9c0-58337df7e8b7"
      },
      "source": [
        "# importing pandas as pd  \n",
        "import pandas as pd  \n",
        "from itertools import zip_longest\n",
        "import csv\n",
        "import itertools\n",
        "import copy\n",
        "\n",
        "DEBUG = False\n",
        "\n",
        "#class for coloring output text\n",
        "class bcolors:\n",
        "    HEADER = '\\033[95m'\n",
        "    OKBLUE = '\\033[94m'\n",
        "    OKCYAN = '\\033[96m'\n",
        "    OKGREEN = '\\033[92m'\n",
        "    WARNING = '\\033[93m'\n",
        "    FAIL = '\\033[91m'\n",
        "    ENDC = '\\033[0m'\n",
        "    BOLD = '\\033[1m'\n",
        "    UNDERLINE = '\\033[4m'\n",
        "\n",
        "#Random Seed\n",
        "random_seed=5\n",
        "\n",
        "#Server and VNF counts (This can be modified to change the size of the data)\n",
        "server_counts=12\n",
        "nearRT_counts=1\n",
        "oCU_counts=1\n",
        "oDU_counts=1\n",
        "constant_delay_threshold=2\n",
        "delay_Threshold_VnRT_VoCU=2\n",
        "delay_Threshold_VoCU_VoDU=2\n",
        "\n",
        "# Server set\n",
        "S = ['server_'+str(x) for x in range(server_counts)]\n",
        "\n",
        "p_VnRT=[] #list of all near-RT RIC VNFs\n",
        "p_VoCU=[] #lisf of all O-CU VNFs\n",
        "p_VoDU=[] #list of all O-DU VNFs\n",
        "\n",
        "b_VnRT=[] #list of all backup near-RT RIC VNFs\n",
        "b_VoCU=[] #lisf of all backup O-CU VNFs\n",
        "b_VoDU=[] #list of all backup O-DU VNFs\n",
        "\n",
        "Vp =[] #list of all primary VNFs\n",
        "Vb =[] #list of all backup VNFs\n",
        "Vall=[] #all VNFs \n",
        "\n",
        "#Fill all sets with sequential IDs\n",
        "# for s in range(server_counts):\n",
        "#     S.append([0] * len(Vp))\n",
        "    \n",
        "for vnrt in range(nearRT_counts):\n",
        "    p_VnRT.append(\"p_near-RT-\"+str(vnrt))\n",
        "    b_VnRT.append(\"b_near-RT-\"+str(vnrt))\n",
        "    \n",
        "for vocu in range(oCU_counts):\n",
        "    p_VoCU.append(\"p_O-CU-\"+str(vocu))\n",
        "    b_VoCU.append(\"b_O-CU-\"+str(vocu))\n",
        "    \n",
        "for vodu in range(oDU_counts):\n",
        "    p_VoDU.append(\"p_O-DU-\"+str(vodu))\n",
        "    b_VoDU.append(\"b_O-DU-\"+str(vodu))\n",
        "    \n",
        "Vp = p_VnRT + p_VoCU + p_VoDU\n",
        "# Vredundant=VnRT+VoCU+VoDU\n",
        "Vb = b_VnRT + b_VoCU + b_VoDU\n",
        "Vall = Vp + Vb\n",
        "\n",
        "# Vbackup=[]\n",
        "\n",
        "# for i in range(len(Vp)):\n",
        "#   Vbackup.append(i+len(Vp))\n",
        "\n",
        "Vr_sets = {}\n",
        "for i in range(nearRT_counts):\n",
        "  Vr_sets[p_VnRT[i]] = {'p_Near_RT': p_VnRT[i], 'p_OCU': p_VoCU[i], 'p_ODU': p_VoDU[i],\n",
        "                        'b_Near_RT': b_VnRT[i], 'b_OCU': b_VoCU[i], 'b_ODU': b_VoDU[i]}\n",
        "  Vdep = {p_VnRT[i]: [p_VoCU[i], b_VoCU[i]],\n",
        "          b_VnRT[i]: [p_VoCU[i], b_VoCU[i]],\n",
        "          p_VoCU[i]: [p_VoDU[i], b_VoDU[i]],\n",
        "          b_VoCU[i]: [p_VoDU[i], b_VoDU[i]]}\n",
        "\n",
        "print(Vp)\n",
        "print(Vb)\n",
        "print(\"Vall:\", Vall)\n",
        "print(Vr_sets[p_VnRT[0]])\n",
        "\n"
      ],
      "execution_count": 237,
      "outputs": [
        {
          "output_type": "error",
          "ename": "NameError",
          "evalue": "ignored",
          "traceback": [
            "\u001b[0;31m---------------------------------------------------------------------------\u001b[0m",
            "\u001b[0;31mNameError\u001b[0m                                 Traceback (most recent call last)",
            "\u001b[0;32m<ipython-input-237-5383e132abda>\u001b[0m in \u001b[0;36m<module>\u001b[0;34m()\u001b[0m\n\u001b[1;32m      6\u001b[0m \u001b[0;32mimport\u001b[0m \u001b[0mcopy\u001b[0m\u001b[0;34m\u001b[0m\u001b[0;34m\u001b[0m\u001b[0m\n\u001b[1;32m      7\u001b[0m \u001b[0;34m\u001b[0m\u001b[0m\n\u001b[0;32m----> 8\u001b[0;31m \u001b[0mDEBUG\u001b[0m \u001b[0;34m=\u001b[0m \u001b[0mfalse\u001b[0m\u001b[0;34m\u001b[0m\u001b[0;34m\u001b[0m\u001b[0m\n\u001b[0m\u001b[1;32m      9\u001b[0m \u001b[0;34m\u001b[0m\u001b[0m\n\u001b[1;32m     10\u001b[0m \u001b[0;31m#class for coloring output text\u001b[0m\u001b[0;34m\u001b[0m\u001b[0;34m\u001b[0m\u001b[0;34m\u001b[0m\u001b[0m\n",
            "\u001b[0;31mNameError\u001b[0m: name 'false' is not defined"
          ]
        }
      ]
    },
    {
      "cell_type": "code",
      "metadata": {
        "id": "3zLCdccUset8",
        "colab": {
          "base_uri": "https://localhost:8080/"
        },
        "outputId": "68ae4363-eda8-46ae-d1c5-4de2bcc9788a"
      },
      "source": [
        "print(Vp)"
      ],
      "execution_count": 238,
      "outputs": [
        {
          "output_type": "stream",
          "name": "stdout",
          "text": [
            "['p_near-RT-0', 'p_O-CU-0', 'p_O-DU-0']\n"
          ]
        }
      ]
    },
    {
      "cell_type": "markdown",
      "metadata": {
        "id": "Mz9BecuRcVcL"
      },
      "source": [
        "# Print all VNF Lists"
      ]
    },
    {
      "cell_type": "code",
      "metadata": {
        "colab": {
          "base_uri": "https://localhost:8080/"
        },
        "id": "8JSmQe6OakOU",
        "outputId": "b2012603-fede-4e31-b270-a34c4c1d605e"
      },
      "source": [
        "#Print all sets\n",
        "print(f\"{bcolors.BOLD}Server IDs:{bcolors.ENDC}\",S)\n",
        "print(f\"{bcolors.BOLD}primary near-RT RIC VNFs: {bcolors.ENDC}\",p_VnRT)\n",
        "print(f\"{bcolors.BOLD}primary O-CU VNFs: {bcolors.ENDC}\",p_VoCU)\n",
        "print(f\"{bcolors.BOLD}primary O-DU VNFs: {bcolors.ENDC}\",p_VoDU)\n",
        "\n",
        "print(f\"{bcolors.BOLD}Backup near-RT RIC VNFs:{bcolors.ENDC} \",b_VnRT)\n",
        "print(f\"{bcolors.BOLD}Backup O-CU VNFs: {bcolors.ENDC}\",b_VoCU)\n",
        "print(f\"{bcolors.BOLD}Backup O-DU VNFs: {bcolors.ENDC}\",b_VoDU)\n",
        "\n",
        "print(f\"{bcolors.OKBLUE}All Primary VNFs:{bcolors.ENDC} \",Vp)\n",
        "print(f\"{bcolors.OKBLUE}All Backup VNFs: {bcolors.ENDC}\",Vb)\n",
        "print(f\"{bcolors.OKBLUE}All VNFs: {bcolors.ENDC}\",Vall)\n"
      ],
      "execution_count": 239,
      "outputs": [
        {
          "output_type": "stream",
          "name": "stdout",
          "text": [
            "\u001b[1mServer IDs:\u001b[0m ['server_0', 'server_1', 'server_2', 'server_3', 'server_4', 'server_5', 'server_6', 'server_7', 'server_8', 'server_9', 'server_10', 'server_11']\n",
            "\u001b[1mprimary near-RT RIC VNFs: \u001b[0m ['p_near-RT-0']\n",
            "\u001b[1mprimary O-CU VNFs: \u001b[0m ['p_O-CU-0']\n",
            "\u001b[1mprimary O-DU VNFs: \u001b[0m ['p_O-DU-0']\n",
            "\u001b[1mBackup near-RT RIC VNFs:\u001b[0m  ['b_near-RT-0']\n",
            "\u001b[1mBackup O-CU VNFs: \u001b[0m ['b_O-CU-0']\n",
            "\u001b[1mBackup O-DU VNFs: \u001b[0m ['b_O-DU-0']\n",
            "\u001b[94mAll Primary VNFs:\u001b[0m  ['p_near-RT-0', 'p_O-CU-0', 'p_O-DU-0']\n",
            "\u001b[94mAll Backup VNFs: \u001b[0m ['b_near-RT-0', 'b_O-CU-0', 'b_O-DU-0']\n",
            "\u001b[94mAll VNFs: \u001b[0m ['p_near-RT-0', 'p_O-CU-0', 'p_O-DU-0', 'b_near-RT-0', 'b_O-CU-0', 'b_O-DU-0']\n"
          ]
        }
      ]
    },
    {
      "cell_type": "markdown",
      "metadata": {
        "id": "j7GNLP85cgWd"
      },
      "source": [
        "# Export VNF Lists to CSV"
      ]
    },
    {
      "cell_type": "code",
      "metadata": {
        "id": "oFYJmh12akOV"
      },
      "source": [
        "#WRITE ALL DATA TO CSV\n",
        "d = [S, p_VnRT, p_VoCU, p_VoDU, b_VnRT, b_VoCU, b_VoDU]\n",
        "export_data = zip_longest(*d, fillvalue = '')\n",
        "with open('numbers.csv', 'w', encoding=\"ISO-8859-1\", newline='') as myfile:\n",
        "      wr = csv.writer(myfile)\n",
        "      wr.writerow((\"S\", \"VnRT\",\"VoCU\",\"VoDU\",\"b_VnRT\",\"b_VoCU\",\"b_VoDU\"))\n",
        "      wr.writerows(export_data)\n",
        "myfile.close()\n"
      ],
      "execution_count": 240,
      "outputs": []
    },
    {
      "cell_type": "markdown",
      "metadata": {
        "id": "gtuJHqzicmdb"
      },
      "source": [
        "# Create the Servers' Links and Delays "
      ]
    },
    {
      "cell_type": "code",
      "metadata": {
        "colab": {
          "base_uri": "https://localhost:8080/",
          "height": 773
        },
        "id": "nDWWhELOakOW",
        "outputId": "72ac7c87-7db5-488c-b574-7ce234d195bf"
      },
      "source": [
        "#Server Infrastructure\n",
        "import numpy as np\n",
        "import networkx as nx\n",
        "import random\n",
        "import matplotlib.pyplot as plt\n",
        "import math\n",
        "\n",
        "random.seed(random_seed)\n",
        "np.random.seed(random_seed)\n",
        "\n",
        "Node_Count=server_counts\n",
        "SFC_Count=5\n",
        "Delay_Min=100\n",
        "Delay_Max=1000\n",
        "CPU_MAX=255\n",
        "MEM_MAX=64000\n",
        "\n",
        "nums = np.random.choice([0, 1], size=(Node_Count,Node_Count),p=([.8, .2]))\n",
        "Arr = nx.from_numpy_array(nums)\n",
        "nx.draw(Arr, with_labels=True)\n",
        "ArrMat=nx.adjacency_matrix(Arr, nodelist=None, weight='weight')\n",
        "Connections=ArrMat[:,:].toarray()\n",
        "np.savetxt(\"Connections.csv\", Connections, delimiter=\",\")\n",
        "#print(\"Adjacency Matrix\")\n",
        "#print(Connections)\n",
        "for (u, v) in Arr.edges():\n",
        "    Arr.edges[u,v]['weight'] = random.randint(100,1000)\n",
        "ArrDelayMat=nx.adjacency_matrix(Arr, nodelist=None, weight='weight')\n",
        "Delays=ArrDelayMat[:,:].toarray()\n",
        "print(\"Delay Matrix\")\n",
        "print(Delays)\n",
        "\n",
        "inter_server_delay = {}\n",
        "\n",
        "for s in S:\n",
        "  inter_server_delay[s] = {}\n",
        "\n",
        "for i in range(len(S)):\n",
        "  for j in range(len(S)):\n",
        "    inter_server_delay[S[i]][S[j]] = Delays[i][j]\n",
        "  print(inter_server_delay[S[i]])\n",
        "\n",
        "\n"
      ],
      "execution_count": 241,
      "outputs": [
        {
          "output_type": "stream",
          "name": "stdout",
          "text": [
            "Delay Matrix\n",
            "[[  0 737   0 361 859   0   0   0 467 914   0 807]\n",
            " [737   0 961   0   0 857   0   0   0 767   0   0]\n",
            " [  0 961   0 642 129 960   0   0   0   0   0   0]\n",
            " [361   0 642 576   0 894 355 764   0 260 153   0]\n",
            " [859   0 129   0   0 580   0   0 215   0 480   0]\n",
            " [  0 857 960 894 580   0   0   0 989   0   0 352]\n",
            " [  0   0   0 355   0   0   0 489 656   0 204   0]\n",
            " [  0   0   0 764   0   0 489   0   0 687   0   0]\n",
            " [467   0   0   0 215 989 656   0   0 355   0 113]\n",
            " [914 767   0 260   0   0   0 687 355 848 321 517]\n",
            " [  0   0   0 153 480   0 204   0   0 321   0   0]\n",
            " [807   0   0   0   0 352   0   0 113 517   0 386]]\n",
            "{'server_0': 0, 'server_1': 737, 'server_2': 0, 'server_3': 361, 'server_4': 859, 'server_5': 0, 'server_6': 0, 'server_7': 0, 'server_8': 467, 'server_9': 914, 'server_10': 0, 'server_11': 807}\n",
            "{'server_0': 737, 'server_1': 0, 'server_2': 961, 'server_3': 0, 'server_4': 0, 'server_5': 857, 'server_6': 0, 'server_7': 0, 'server_8': 0, 'server_9': 767, 'server_10': 0, 'server_11': 0}\n",
            "{'server_0': 0, 'server_1': 961, 'server_2': 0, 'server_3': 642, 'server_4': 129, 'server_5': 960, 'server_6': 0, 'server_7': 0, 'server_8': 0, 'server_9': 0, 'server_10': 0, 'server_11': 0}\n",
            "{'server_0': 361, 'server_1': 0, 'server_2': 642, 'server_3': 576, 'server_4': 0, 'server_5': 894, 'server_6': 355, 'server_7': 764, 'server_8': 0, 'server_9': 260, 'server_10': 153, 'server_11': 0}\n",
            "{'server_0': 859, 'server_1': 0, 'server_2': 129, 'server_3': 0, 'server_4': 0, 'server_5': 580, 'server_6': 0, 'server_7': 0, 'server_8': 215, 'server_9': 0, 'server_10': 480, 'server_11': 0}\n",
            "{'server_0': 0, 'server_1': 857, 'server_2': 960, 'server_3': 894, 'server_4': 580, 'server_5': 0, 'server_6': 0, 'server_7': 0, 'server_8': 989, 'server_9': 0, 'server_10': 0, 'server_11': 352}\n",
            "{'server_0': 0, 'server_1': 0, 'server_2': 0, 'server_3': 355, 'server_4': 0, 'server_5': 0, 'server_6': 0, 'server_7': 489, 'server_8': 656, 'server_9': 0, 'server_10': 204, 'server_11': 0}\n",
            "{'server_0': 0, 'server_1': 0, 'server_2': 0, 'server_3': 764, 'server_4': 0, 'server_5': 0, 'server_6': 489, 'server_7': 0, 'server_8': 0, 'server_9': 687, 'server_10': 0, 'server_11': 0}\n",
            "{'server_0': 467, 'server_1': 0, 'server_2': 0, 'server_3': 0, 'server_4': 215, 'server_5': 989, 'server_6': 656, 'server_7': 0, 'server_8': 0, 'server_9': 355, 'server_10': 0, 'server_11': 113}\n",
            "{'server_0': 914, 'server_1': 767, 'server_2': 0, 'server_3': 260, 'server_4': 0, 'server_5': 0, 'server_6': 0, 'server_7': 687, 'server_8': 355, 'server_9': 848, 'server_10': 321, 'server_11': 517}\n",
            "{'server_0': 0, 'server_1': 0, 'server_2': 0, 'server_3': 153, 'server_4': 480, 'server_5': 0, 'server_6': 204, 'server_7': 0, 'server_8': 0, 'server_9': 321, 'server_10': 0, 'server_11': 0}\n",
            "{'server_0': 807, 'server_1': 0, 'server_2': 0, 'server_3': 0, 'server_4': 0, 'server_5': 352, 'server_6': 0, 'server_7': 0, 'server_8': 113, 'server_9': 517, 'server_10': 0, 'server_11': 386}\n"
          ]
        },
        {
          "output_type": "display_data",
          "data": {
            "image/png": "[encoded data removed]",
            "text/plain": [
              "<Figure size 432x288 with 1 Axes>"
            ]
          },
          "metadata": {}
        }
      ]
    },
    {
      "cell_type": "markdown",
      "metadata": {
        "id": "qBJEYqSeePKI"
      },
      "source": [
        "# CPU and Mem for VNFs and Servers"
      ]
    },
    {
      "cell_type": "code",
      "metadata": {
        "id": "J8RqJ3ePakOX"
      },
      "source": [
        "\n",
        "#CPU and Mem for each server\n",
        "# cpu_mem_S = []\n",
        "# for c in range(len(S)):\n",
        "#     cpu_mem_S.append([random.randint(2,20),random.randint(2,20)])\n",
        "\n",
        "# #CPU and Mem for primary VNFs\n",
        "# cpu_mem_Vp = []\n",
        "# for c in range(len(Vp)):\n",
        "#     cpu_mem_Vp.append([random.randint(2,20),random.randint(2,20)])\n",
        "\n",
        "random.seed(random_seed)\n",
        "np.random.seed(random_seed)\n",
        "\n",
        "#CPU and Mem for servers\n",
        "cpu_S = {}\n",
        "for s in S:\n",
        "    cpu_S[s] = random.randint(20,40)\n",
        "\n",
        "mem_S = {}\n",
        "for s in S:\n",
        "    mem_S[s] = random.randint(20,40)\n",
        "\n",
        "#CPU and Mem for primary VNFs\n",
        "cpu_vnf = {}\n",
        "mem_vnf = {}\n",
        "\n",
        "for p_vnf in Vp:  # for each primary VNF\n",
        "    b_vnf = p_vnf.replace('p', 'b')  # b_vnf is the backup of p_vnf\n",
        "    cpu_vnf[p_vnf] = cpu_vnf[b_vnf] = random.randint(2,20)\n",
        "    mem_vnf[p_vnf] = mem_vnf[b_vnf] = random.randint(2,20)\n",
        "\n",
        "#Failover of VNF\n",
        "fo_Vp = {}\n",
        "for vnf in Vp:\n",
        "    fo_Vp[vnf] = random.randint(2,20)\n",
        "\n",
        "#Regional VNFs (this list should be filled with the IDs of VNFs in the regional cloud (all NRT RIC))\n",
        "regional_VNF_set = set()\n",
        "for vnf in p_VnRT + b_VnRT:\n",
        "    regional_VNF_set.add(vnf) \n",
        "\n",
        "#Edge VNFs (this list should be filled with the IDs of VNFs in the Edge cloud (all OCU + ODU))\n",
        "edge_VNF_set = set()\n",
        "for vnf in p_VoCU + b_VoCU:\n",
        "    edge_VNF_set.add(vnf)\n",
        "\n",
        "for vnf in p_VoDU + b_VoDU:\n",
        "    edge_VNF_set.add(vnf)\n",
        "\n",
        "#MUST CHANGE TO MORE REALISTIC APPROACH\n",
        "# s_regional = []\n",
        "# for c in range(int(len(S)*0.20)):\n",
        "#   temp= random.randint(0, len(S))\n",
        "#   while temp in s_regional:\n",
        "#     temp=random.randint(0, len(S))\n",
        "#   s_regional.append(temp)\n",
        "regional_server_set = random.choices(S, k=int(len(S)*0.20))\n",
        "\n",
        "#MUST CHANGE TO MORE REALISTIC APPROACH\n",
        "# s_edge = []\n",
        "# for c in range(int(len(S)*0.80)):\n",
        "#   temp1=random.randint(0,len(S))\n",
        "#   while temp1 in s_regional or temp1 in s_edge:\n",
        "#     temp1=random.randint(0,len(S))\n",
        "#   s_edge.append(temp1)\n",
        "edge_server_set = [x for x in S if x not in regional_server_set]"
      ],
      "execution_count": 242,
      "outputs": []
    },
    {
      "cell_type": "code",
      "metadata": {
        "colab": {
          "base_uri": "https://localhost:8080/"
        },
        "id": "BKCdICuls4Ha",
        "outputId": "50abfa22-5dda-4661-f190-0bbe33807232"
      },
      "source": [
        "print(regional_server_set)\n",
        "print(edge_server_set)\n",
        "print(cpu_S)\n",
        "print(cpu_vnf)\n",
        "print(mem_vnf)\n",
        "print(mem_S)\n",
        "print(fo_Vp)"
      ],
      "execution_count": 243,
      "outputs": [
        {
          "output_type": "stream",
          "name": "stdout",
          "text": [
            "['server_11', 'server_0']\n",
            "['server_1', 'server_2', 'server_3', 'server_4', 'server_5', 'server_6', 'server_7', 'server_8', 'server_9', 'server_10']\n",
            "{'server_0': 39, 'server_1': 28, 'server_2': 31, 'server_3': 40, 'server_4': 36, 'server_5': 20, 'server_6': 34, 'server_7': 27, 'server_8': 40, 'server_9': 21, 'server_10': 25, 'server_11': 23}\n",
            "{'p_near-RT-0': 7, 'b_near-RT-0': 7, 'p_O-CU-0': 7, 'b_O-CU-0': 7, 'p_O-DU-0': 6, 'b_O-DU-0': 6}\n",
            "{'p_near-RT-0': 14, 'b_near-RT-0': 14, 'p_O-CU-0': 4, 'b_O-CU-0': 4, 'p_O-DU-0': 16, 'b_O-DU-0': 16}\n",
            "{'server_0': 31, 'server_1': 35, 'server_2': 27, 'server_3': 32, 'server_4': 37, 'server_5': 23, 'server_6': 38, 'server_7': 27, 'server_8': 20, 'server_9': 26, 'server_10': 33, 'server_11': 28}\n",
            "{'p_near-RT-0': 6, 'p_O-CU-0': 6, 'p_O-DU-0': 2}\n"
          ]
        }
      ]
    },
    {
      "cell_type": "markdown",
      "metadata": {
        "id": "yck3T3DmeYGv"
      },
      "source": [
        "# MTTF and MTTR for VNFs and Servers"
      ]
    },
    {
      "cell_type": "code",
      "metadata": {
        "id": "AKF8_KpXakOY"
      },
      "source": [
        "random.seed(random_seed)\n",
        "np.random.seed(random_seed)\n",
        "\n",
        "#mttf and mttr for each server\n",
        "mttf_S = {}\n",
        "for s in S:\n",
        "    mttf_S[s] = random.randint(2,20)\n",
        "\n",
        "mttr_S = {}\n",
        "for s in S:\n",
        "    mttr_S[s] = random.randint(2,20)\n",
        "\n",
        "#mttf and mttr for each primary VNF\n",
        "mttf_Vp = {}\n",
        "for v in Vp:\n",
        "    mttf_Vp[v] = random.randint(2,20)\n",
        "\n",
        "mttr_Vp = {}\n",
        "for v in Vp:\n",
        "    mttr_Vp[v] = random.randint(2,20)\n",
        "    \n",
        "#mttf and mttr for each backup VNF\n",
        "mttf_Vb = {}\n",
        "for v in Vb:\n",
        "    mttf_Vp[v] = random.randint(2,20)\n",
        "\n",
        "mttr_Vb = {}\n",
        "for v in Vb:\n",
        "    mttr_Vp[v] = random.randint(2,20)\n",
        "\n",
        "# Availablity of vnf v when it is installed on server s.\n",
        "# They are parameters 'c' in the model.\n",
        "c = {}\n",
        "for vp in Vp:\n",
        "  c[vp] = {}\n",
        "  for s in S:\n",
        "    c[vp][s] = (1/mttf_S[s]+mttf_Vp[vp])/((1/mttf_S[s]+mttf_Vp[vp])+mttr_S[s]+mttr_Vp[vp])"
      ],
      "execution_count": 244,
      "outputs": []
    },
    {
      "cell_type": "markdown",
      "metadata": {
        "id": "Z4IjvbXReehg"
      },
      "source": [
        "# The infamous Gamma Set"
      ]
    },
    {
      "cell_type": "code",
      "metadata": {
        "id": "hU-iqPZEakOY"
      },
      "source": [
        "# Gamma_prime_set=[[[[1,0,0,0,0,0,0,0,0,0,0,0],[0,1,0,0,0,0,0,0,0,0,0,0],[0,0,0,0,0,0,0,0,1,0,0,0]],[[1,0,0,0,0,0,0,0,0,0,0,0],[0,1,0,0,0,0,0,0,0,0,0,0],[0,0,0,0,0,0,0,0,1,0,0,0]]],\n",
        "#                  [[[1,0,0,0,0,0,0,0,0,0,0,0],[0,1,0,0,0,0,0,0,0,0,0,0],[0,0,0,0,0,0,0,0,1,0,0,0]]],\n",
        "#                  [[[1,0,0,0,0,0,0,0,0,0,0,0],[0,1,0,0,0,0,0,0,0,0,0,0],[0,0,0,0,0,0,0,0,1,0,0,0]]],\n",
        "#                  [[[1,0,0,0,0,0,0,0,0,0,0,0],[0,1,0,0,0,0,0,0,0,0,0,0],[0,0,0,0,0,0,0,0,1,0,0,0]]],]\n",
        "\n",
        "Gamma_prime_set = {}\n",
        "\n",
        "class TwoTreeConfiguration:\n",
        "  p_Near_RT = None\n",
        "  p_OCU     = None\n",
        "  p_ODU     = None\n",
        "  b_Near_RT = None\n",
        "  b_OCU     = None\n",
        "  b_ODU     = None\n",
        "\n",
        "  # def __init__(self):\n",
        "  #   pass\n",
        "\n",
        "  def __init__(self, p_Near_RT=None, p_OCU=None, p_ODU=None, \n",
        "               b_Near_RT=None, b_OCU=None, b_ODU=None):\n",
        "    self.p_Near_RT = p_Near_RT  # a pair of (name of vnf, location)\n",
        "    self.p_OCU     = p_OCU\n",
        "    self.p_ODU     = p_ODU\n",
        "    self.b_Near_RT = b_Near_RT\n",
        "    self.b_OCU     = b_OCU\n",
        "    self.b_ODU     = b_ODU\n",
        "  \n",
        "  def __str__(self):\n",
        "    return \"p_Near_RT: {}, p_OCU: {}, p_ODU: {}, b_Near_RT: {}, b_OCU: {}, b_ODU:{}\" \\\n",
        "          .format(self.p_Near_RT , self.p_OCU, self.p_ODU,\n",
        "            self.b_Near_RT, self.b_OCU, self.b_ODU)\n",
        "          \n",
        "  def get_VNF_and_location_pairs(self):\n",
        "    return [self.p_Near_RT, self.p_OCU, self.p_ODU, \n",
        "            self.b_Near_RT, self.b_OCU, self.b_ODU]\n",
        "\n",
        "  def get_primary_VNF_and_location_pairs(self):\n",
        "    return [self.p_Near_RT, self.p_OCU, self.p_ODU]\n",
        "\n"
      ],
      "execution_count": 245,
      "outputs": []
    },
    {
      "cell_type": "markdown",
      "metadata": {
        "id": "uLfvVt8_emoT"
      },
      "source": [
        "# Master Problem\n"
      ]
    },
    {
      "cell_type": "markdown",
      "metadata": {
        "id": "tLhElbYR9uGp"
      },
      "source": [
        "Next tasks:\n",
        "- add NearRIC infor into gamma\n",
        "- correct the right hand side of constraints. Currently, they are all 0\n",
        "- read chapter 13, cutting stock. If it's too difficult, refresh with chapter 2, 5, 7.\n",
        "\n",
        "Idea for extensions:\n",
        "- throughput\n"
      ]
    },
    {
      "cell_type": "code",
      "metadata": {
        "id": "r9w5EXW5akOa",
        "colab": {
          "base_uri": "https://localhost:8080/"
        },
        "outputId": "dab6c36c-8750-4075-e19e-52dc133a3324"
      },
      "source": [
        "%pip install gurobipy  # For Colab, Gurobi must be installed\n",
        "import gurobipy as gp\n",
        "from gurobipy import GRB\n",
        "\n",
        "\n",
        "m = gp.Model(\"Master Problem\")\n",
        "\n",
        "z_var_set = []\n",
        "\n",
        "const_28={}\n",
        "const_29={}\n",
        "const_30={}\n",
        "\n",
        "# At most one configuration for a near RT\n",
        "for v in Vp:                 #(28)\n",
        "  const_28[v]=m.addLConstr(0, GRB.LESS_EQUAL, 1, \"const_28_\" + str(v))\n",
        "\n",
        "#CPU Constraint\n",
        "for s in S:                  #(29)\n",
        "  const_29[s]=m.addLConstr(0, GRB.LESS_EQUAL, cpu_S[s], \"const_29_\"+str(s))\n",
        "    \n",
        "#Mem Constraint\n",
        "for s in S:                  #(30)\n",
        "  const_30[s]=m.addLConstr(0, GRB.LESS_EQUAL, mem_S[s], \"const_30_\"+str(s))\n",
        "              \n",
        "exp = gp.LinExpr()\n",
        "m.setObjective(exp, GRB.MAXIMIZE)  # see https://www.gurobi.com/documentation/9.1/refman/py_model_setobjective.html\n",
        "\n",
        "for near_RT_vnf in Gamma_prime_set.keys():\n",
        "    for config in Gamma_prime_set[near_RT_vnf]: # for every two tree configuration\n",
        "      add_configuration(config)  \n",
        "\n",
        "#########################################################\n",
        "def add_configuration(config):  # add a two-tree config to the master\n",
        "  # theta=Gamma_prime_set[i][n]\n",
        "  col = gp.Column()\n",
        "  Vr_vnf_location_pairs = config.get_VNF_and_location_pairs() \n",
        "  Vr_primary_vnf_location_pairs = config.get_primary_VNF_and_location_pairs()\n",
        "\n",
        "# objective coefficient of z\n",
        "  Obj_coeff=0\n",
        "  for vp, s in Vr_primary_vnf_location_pairs:\n",
        "    Obj_coeff += c[vp][s]\n",
        "\n",
        "#28\n",
        "  for p_vnf, s in Vr_primary_vnf_location_pairs:\n",
        "    # temp_const_28 = sum(theta[v])\n",
        "    col.addTerms(1, const_28[p_vnf])\n",
        "\n",
        "#29\n",
        "  temp_const_29 = {}  \n",
        "  for _, s in Vr_vnf_location_pairs:\n",
        "    temp_const_29[s] = 0\n",
        "\n",
        "  # compute the cpu used at each server\n",
        "  for v, s in Vr_vnf_location_pairs:\n",
        "    temp_const_29[s] += cpu_vnf[v]\n",
        "\n",
        "  # then add the column\n",
        "  for _, s in Vr_vnf_location_pairs:\n",
        "    col.addTerms(temp_const_29[s], const_29[s])\n",
        "\n",
        "#30\n",
        "  temp_const_30 = {}  # inside this loop, gamma and s are fixed\n",
        "  for _, s in Vr_vnf_location_pairs:\n",
        "    temp_const_30[s] = 0\n",
        "\n",
        "  # compute the mem used at each server\n",
        "  for v, s in Vr_vnf_location_pairs:\n",
        "    temp_const_30[s] += mem_vnf[v]\n",
        "  \n",
        "  # then add the column\n",
        "  for _, s in Vr_vnf_location_pairs:\n",
        "    col.addTerms(temp_const_30[s], const_30[s])\n",
        "\n",
        "# add variable\n",
        "  z = m.addVar( lb=0.0, ub=GRB.INFINITY, obj=Obj_coeff, vtype=GRB.CONTINUOUS, name=\"z_\"+str(len(z_var_set)), column=col )\n",
        "  z_var_set.append((z, copy.deepcopy(config)))   \n",
        "#########################################################\n",
        "\n",
        "# our model is not QCP, so we don't need to set the following parameter\n",
        "# m.setParam(GRB.Param.QCPDual,1)   # enable calculating the Dual Values\n",
        "\n",
        "m.optimize() \n",
        "\n",
        "m.write(\"master.lp\")\n",
        "m.write(\"masterMPS.mps\")\n"
      ],
      "execution_count": 246,
      "outputs": [
        {
          "output_type": "stream",
          "name": "stdout",
          "text": [
            "Requirement already satisfied: gurobipy in /usr/local/lib/python3.7/dist-packages (9.1.2)\n",
            "Gurobi Optimizer version 9.1.2 build v9.1.2rc0 (linux64)\n",
            "Thread count: 1 physical cores, 2 logical processors, using up to 2 threads\n",
            "Optimize a model with 27 rows, 0 columns and 0 nonzeros\n",
            "Model fingerprint: 0x6f4c2dfb\n",
            "Coefficient statistics:\n",
            "  Matrix range     [0e+00, 0e+00]\n",
            "  Objective range  [0e+00, 0e+00]\n",
            "  Bounds range     [0e+00, 0e+00]\n",
            "  RHS range        [1e+00, 4e+01]\n",
            "Presolve removed 27 rows and 0 columns\n",
            "Presolve time: 0.01s\n",
            "Presolve: All rows and columns removed\n",
            "Iteration    Objective       Primal Inf.    Dual Inf.      Time\n",
            "       0   -0.0000000e+00   0.000000e+00   0.000000e+00      0s\n",
            "\n",
            "Solved in 0 iterations and 0.01 seconds\n",
            "Optimal objective -0.000000000e+00\n"
          ]
        }
      ]
    },
    {
      "cell_type": "markdown",
      "metadata": {
        "id": "vRopnt61HMyX"
      },
      "source": [
        "# Dual Values"
      ]
    },
    {
      "cell_type": "code",
      "metadata": {
        "id": "2-S0K4pu-JOj",
        "colab": {
          "base_uri": "https://localhost:8080/"
        },
        "outputId": "e2ee0d47-f27d-4df1-db82-aec41cb276e2"
      },
      "source": [
        "duals = m.getAttr(\"Pi\", m.getConstrs())\n",
        "\n",
        "#To manually retrive duals\n",
        "# print(len(duals))\n",
        "# print(duals)\n",
        "# uvs_28=duals[0:len(Vp)]\n",
        "# uvs_29=duals[len(Vp):len(Vp)+len(S)]\n",
        "# uvs_30=duals[len(Vp)+len(S):len(Vp)+len(S)+len(S)]\n",
        "\n",
        "\n",
        "uvs_28= m.getAttr(\"Pi\", const_28)\n",
        "uvs_29= m.getAttr(\"Pi\",const_29)\n",
        "uvs_30= m.getAttr(\"Pi\",const_30)\n",
        "\n",
        "\n",
        "\n",
        "print(uvs_28)\n",
        "print(uvs_29)\n",
        "print(uvs_30)\n",
        "\n",
        "print(len(uvs_28))\n",
        "print(len(uvs_29))\n",
        "print(len(uvs_30))"
      ],
      "execution_count": 247,
      "outputs": [
        {
          "output_type": "stream",
          "name": "stdout",
          "text": [
            "{'p_near-RT-0': 0.0, 'p_O-CU-0': 0.0, 'p_O-DU-0': 0.0}\n",
            "{'server_0': 0.0, 'server_1': 0.0, 'server_2': 0.0, 'server_3': 0.0, 'server_4': 0.0, 'server_5': 0.0, 'server_6': 0.0, 'server_7': 0.0, 'server_8': 0.0, 'server_9': 0.0, 'server_10': 0.0, 'server_11': 0.0}\n",
            "{'server_0': 0.0, 'server_1': 0.0, 'server_2': 0.0, 'server_3': 0.0, 'server_4': 0.0, 'server_5': 0.0, 'server_6': 0.0, 'server_7': 0.0, 'server_8': 0.0, 'server_9': 0.0, 'server_10': 0.0, 'server_11': 0.0}\n",
            "3\n",
            "12\n",
            "12\n"
          ]
        }
      ]
    },
    {
      "cell_type": "markdown",
      "metadata": {
        "id": "et74P38VeqnA"
      },
      "source": [
        "# Pricing Problem"
      ]
    },
    {
      "cell_type": "code",
      "metadata": {
        "id": "CEg7AlU4HJel"
      },
      "source": [
        "#Pricing Problem  V1\n",
        "# How to get dual value: https://www.gurobi.com/documentation/9.1/refman/pi.html\n",
        "\n",
        "def pricing_problem(near_rt_ric):\n",
        "\n",
        "  uv_28= m.getAttr(\"Pi\", const_28)\n",
        "  us_29= m.getAttr(\"Pi\", const_29)\n",
        "  us_30= m.getAttr(\"Pi\", const_30)\n",
        "\n",
        "  pp = gp.Model(\"Pricing Problem\")\n",
        "\n",
        "  Vr=Vr_sets[near_rt_ric].values() #input to the pricing \n",
        "\n",
        "  const_36={}\n",
        "  const_37={}\n",
        "  const_38={}\n",
        "  const_39={}\n",
        "  const_40={}\n",
        "  const_41={}\n",
        "\n",
        "  #CR\"HAT\"\n",
        "\n",
        "  sum_cvs_theta_vs = gp.LinExpr()\n",
        "  sum_u28_theta_vs = gp.LinExpr()\n",
        "  sum_u29_theta_vs = gp.LinExpr()\n",
        "  sum_u30_theta_vs = gp.LinExpr()\n",
        "\n",
        "  # add theta variables\n",
        "  theta = {}\n",
        "  for v in Vr:\n",
        "    theta[v] = {}\n",
        "    for s in S:\n",
        "      theta[v][s] = pp.addVar(vtype=GRB.BINARY, name=\"theta_\"+v+'_'+s)\n",
        "\n",
        "  for v in Vr:\n",
        "    for s in S:\n",
        "      if v in Vp:\n",
        "        sum_cvs_theta_vs += theta[v][s] * c[v][s]\n",
        "        sum_u28_theta_vs += theta[v][s] * uv_28[v]\n",
        "      \n",
        "      sum_u29_theta_vs += theta[v][s] * us_29[s] * cpu_vnf[v]\n",
        "      sum_u30_theta_vs += theta[v][s] * us_30[s] * mem_vnf[v]\n",
        "\n",
        "  c_r = sum_cvs_theta_vs - sum_u28_theta_vs - sum_u29_theta_vs - sum_u30_theta_vs\n",
        "\n",
        "  # print(c_r)\n",
        "\n",
        "  #####################\n",
        "\n",
        "  #36\n",
        "  for v in Vr:   \n",
        "    lhs = gp.quicksum([theta[v][s] for s in S])\n",
        "    const_36[v]=pp.addLConstr(lhs, GRB.EQUAL, 1,\"const_36_\"+v)      \n",
        "\n",
        "  #37 how to implement the for alls? \n",
        "  # for v in Vr:\n",
        "  #   for v_prime in Vdep[v]:\n",
        "  for v in Vr:\n",
        "    const_37[v] = {}\n",
        "    if v not in Vdep.keys(): # v has no dependency\n",
        "      continue\n",
        "\n",
        "    for v_prime in Vdep[v]:\n",
        "      if v_prime not in const_37[v]:\n",
        "        const_37[v][v_prime] = {}\n",
        "      for s in S:\n",
        "        const_37[v][v_prime][s] = {}\n",
        "        for s_prime in S:\n",
        "          # print('v({}), v_prime({}), s({}), s_prime({})'.format(v, v_prime, s, s_prime))\n",
        "          # todo: MUST CHANGE constant_delay_threshold TO dynamic\n",
        "          exp = gp.LinExpr()\n",
        "          exp = inter_server_delay[s][s_prime] * (theta[v][s]+theta[v_prime][s_prime]-1)\n",
        "          name = \"const_37_{}_{}_{}_{}\".format(v, v_prime, s, s_prime)\n",
        "          const_37[v][v_prime][s][s_prime] = \\\n",
        "             pp.addLConstr(exp, GRB.LESS_EQUAL, constant_delay_threshold, \\\n",
        "                           name=name)\n",
        "          # pp.addConstr(Delays[s][s_prime]*(theta[v,s]+theta[v_prime,s_prime]-1),GRB.LESS_EQUAL,constant_delay_threshold,)\n",
        "      \n",
        "  #38 create a new list Vregional\n",
        "  # https://www.gurobi.com/documentation/9.1/refman/py_quicksum.html#pythonmethod:quicksum\n",
        "  for v in Vr:\n",
        "    if v in regional_VNF_set:                 \n",
        "      lhs = gp.quicksum([theta[v][s] for s in regional_server_set])\n",
        "      const_38[v] = pp.addLConstr(lhs, GRB.EQUAL, 1, name=\"const_38_\"+str(v))\n",
        "      \n",
        "  #39 create a new list Vedge\n",
        "  for v in Vr:\n",
        "    if v in edge_VNF_set:                 \n",
        "      lhs = gp.quicksum([theta[v][s] for s in edge_server_set])\n",
        "      const_39[v] = pp.addLConstr(lhs, GRB.EQUAL, 1 , name=\"const_39_\"+str(v))\n",
        "\n",
        "        \n",
        "  #Failovers #missing for all vRD in model #create Rd and primary\n",
        "  # for v in Vr[r]:\n",
        "  #   if vpri in Vprimary and fo_Vp[v] > fo_Vp[???]:\n",
        "  #     const_40[vpri]=m.addConstr(theta[][]+theta[][]<1,name=\"const_40_\"+str(vpri))\n",
        "\n",
        "  #40\n",
        "  for p_vnf, s in list(itertools.product(Vr, S)) :\n",
        "    if p_vnf in Vp: # p_vnf is primary VNF\n",
        "      const_40[p_vnf] = {}\n",
        "      b_vnf = p_vnf.replace('p', 'b')  # b_vnf is the corresponding backup VNF\n",
        "      const_40[p_vnf][s] = pp.addLConstr(theta[p_vnf][s]+theta[b_vnf][s], GRB.LESS_EQUAL, 1, name=\"const_40_\"+v+'_'+s)\n",
        "\n",
        "  #41\n",
        "  # for v in Vr[r]:\n",
        "  #   for v_hat in Vdep[v]:\n",
        "  #     for s in range(len(S)):\n",
        "  #       if fo_Vp[v] > fo_Vp[v_hat]:\n",
        "  #         const_41[s]=pp.addConstr(theta[v,s]+theta[v_hat,s], GRB.LESS_EQUAL,1,name=\"const_41_\"+str(s))\n",
        "\n",
        "  pp.setObjective(c_r, GRB.MAXIMIZE)\n",
        "  pp.Params.OutputFlag = 0\n",
        "  pp.optimize() \n",
        "  pp.write(\"pp.lp\")\n",
        "  pp.write(\"pp.sol\")\n",
        "\n",
        "  return pp, theta"
      ],
      "execution_count": 248,
      "outputs": []
    },
    {
      "cell_type": "code",
      "metadata": {
        "id": "W89TOgD1o0B3"
      },
      "source": [
        "test_pp, test_theta = pricing_problem(p_VnRT[0])"
      ],
      "execution_count": 249,
      "outputs": []
    },
    {
      "cell_type": "code",
      "metadata": {
        "colab": {
          "base_uri": "https://localhost:8080/"
        },
        "id": "9TYg9zLGni0i",
        "outputId": "b550d214-8911-4c33-9a11-fef1d84f001c"
      },
      "source": [
        "print(p_VnRT)"
      ],
      "execution_count": 250,
      "outputs": [
        {
          "output_type": "stream",
          "name": "stdout",
          "text": [
            "['p_near-RT-0']\n"
          ]
        }
      ]
    },
    {
      "cell_type": "code",
      "metadata": {
        "id": "rRpUF_G3dg8n"
      },
      "source": [
        "def get_configuration_from_pricing_problem(r, pp, theta):\n",
        "  # {'p_Near_RT': p_VnRT[0], 'p_OCU': p_VoCU[0], 'p_ODU': p_VoDU[0],\n",
        "  # 'b_Near_RT': b_VnRT[0], 'b_OCU': b_VoCU[0], 'b_ODU': b_VoDU[0]}\n",
        "  config = TwoTreeConfiguration()\n",
        "  Vr = Vr_sets[r]\n",
        "  \n",
        "  # primary Near RT\n",
        "  vnf = Vr['p_Near_RT']\n",
        "  assert vnf in theta\n",
        "  for s in S:\n",
        "    if theta[vnf][s].X > 0.9:\n",
        "      config.p_Near_RT = (vnf, s)\n",
        "\n",
        "  # backup Near RT\n",
        "  vnf = Vr['b_Near_RT']\n",
        "  assert vnf in theta\n",
        "  for s in S:\n",
        "    if theta[vnf][s].X > 0.9:\n",
        "      config.b_Near_RT = (vnf, s)\n",
        "  \n",
        "  # primary OCU\n",
        "  vnf = Vr['p_OCU']\n",
        "  assert vnf in theta\n",
        "  for s in S:\n",
        "    if theta[vnf][s].X > 0.9:\n",
        "      config.p_OCU = (vnf, s)\n",
        "\n",
        "  # backup OCU\n",
        "  vnf = Vr['b_OCU']\n",
        "  assert vnf in theta\n",
        "  for s in S:\n",
        "    if theta[vnf][s].X > 0.9:\n",
        "      config.b_OCU = (vnf, s)\n",
        "\n",
        "  # primary ODU\n",
        "  vnf = Vr['p_ODU']\n",
        "  assert vnf in theta\n",
        "  for s in S:\n",
        "    if theta[vnf][s].X > 0.9:\n",
        "      config.p_ODU = (vnf, s)\n",
        "\n",
        "  # backup ODU\n",
        "  vnf = Vr['b_ODU']\n",
        "  assert vnf in theta\n",
        "  for s in S:\n",
        "    if theta[vnf][s].X > 0.9:\n",
        "      config.b_ODU = (vnf, s)\n",
        "    \n",
        "  return config\n",
        "  "
      ],
      "execution_count": 251,
      "outputs": []
    },
    {
      "cell_type": "markdown",
      "metadata": {
        "id": "irXS79A0fT6t"
      },
      "source": [
        "# Main Algorithm's flow"
      ]
    },
    {
      "cell_type": "code",
      "metadata": {
        "id": "eMXcCr9d6YbJ",
        "colab": {
          "base_uri": "https://localhost:8080/"
        },
        "outputId": "a165ff9a-0d47-487b-8668-688154e2c349"
      },
      "source": [
        "# import MasterModel\n",
        "\n",
        "# master_LP = gp.Model(\"LP RMP Problem\")\n",
        "\n",
        "# initialize_model(master_LP, initial_configurations)  # add variables and contraints\n",
        "m.Params.OutputFlag = 0  # reduce log printing\n",
        "m.write('master_init.lp')\n",
        "new_configutations = [None]\n",
        "iter_count = 0\n",
        "while len(new_configutations) > 0:\n",
        "  new_configurations = []\n",
        "  m.optimize()\n",
        "  print(m.getAttr(\"Pi\", const_28))\n",
        "  print(m.getAttr(\"Pi\", const_29))\n",
        "  print(m.getAttr(\"Pi\", const_30))\n",
        "  print('iter_count = {}, master LP = {}'.format(iter_count, m.objVal))\n",
        "  iter_count += 1\n",
        "\n",
        "  for r in p_VnRT:  # TODO: check the correctness of the pricing model\n",
        "    pp, theta = pricing_problem(r)    \n",
        "    if pp.objVal > 0.00001:\n",
        "      new_configurations.append(get_configuration_from_pricing_problem(r, pp, theta))\n",
        "      print('r = {}, rc = {}'.format(r, pp.objVal))\n",
        "\n",
        "  if len(new_configurations) == 0:\n",
        "    break\n",
        "  \n",
        "  for configuration in new_configurations:\n",
        "    add_configuration(configuration)  # TODO: check the correctness of the master after we add configuration (column)\n",
        "  \n",
        "  if DEBUG:\n",
        "    if iter_count < 10 :\n",
        "      m.write('master_{}.lp'.format(iter_count))  \n",
        "\n",
        "z_star_LP = m.objVal\n",
        "\n",
        "for z, _ in z_var_set:\n",
        "  z.vtype = GRB.BINARY\n",
        "\n",
        "#master_ILP = turn_master_LP_into_master_ILP(master_LP)\n",
        "m.optimize()\n",
        "\n",
        "z_tilde_ILP = m.objVal"
      ],
      "execution_count": 253,
      "outputs": [
        {
          "output_type": "stream",
          "name": "stdout",
          "text": [
            "{'p_near-RT-0': 1.3528401224714965, 'p_O-CU-0': 0.0, 'p_O-DU-0': 0.0}\n",
            "{'server_0': 0.0, 'server_1': 0.0, 'server_2': 0.0, 'server_3': 0.0, 'server_4': 0.0, 'server_5': 0.0, 'server_6': 0.0, 'server_7': 0.0, 'server_8': 0.0, 'server_9': 0.0, 'server_10': 0.0, 'server_11': 0.0}\n",
            "{'server_0': 0.0, 'server_1': 0.0, 'server_2': 0.0, 'server_3': 0.0, 'server_4': 0.0, 'server_5': 0.0, 'server_6': 0.0, 'server_7': 0.0, 'server_8': 0.0, 'server_9': 0.0, 'server_10': 0.0, 'server_11': 0.0}\n",
            "iter_count = 0, master LP = 1.3528401224714965\n"
          ]
        }
      ]
    },
    {
      "cell_type": "code",
      "metadata": {
        "colab": {
          "base_uri": "https://localhost:8080/"
        },
        "id": "vL26n6b-Zlni",
        "outputId": "0dfc9223-a0a3-4809-ef90-ed31c4f86dcb"
      },
      "source": [
        "print(\"z_star_LP = \", z_star_LP)\n",
        "print(\"z_tilde_ILP = \", z_tilde_ILP)\n",
        "gap = (z_star_LP - z_tilde_ILP) / (0.00001+z_tilde_ILP) * 100.0\n",
        "print(\"gap = {} (%)\".format(gap))"
      ],
      "execution_count": 254,
      "outputs": [
        {
          "output_type": "stream",
          "name": "stdout",
          "text": [
            "z_star_LP =  1.3528401224714965\n",
            "z_tilde_ILP =  1.3528401224714965\n",
            "gap = 0.0 (%)\n"
          ]
        }
      ]
    },
    {
      "cell_type": "code",
      "metadata": {
        "colab": {
          "base_uri": "https://localhost:8080/"
        },
        "id": "qKRbYS_yb6Yh",
        "outputId": "04714ce3-ee84-4d5b-821e-597914570df2"
      },
      "source": [
        "if DEBUG:\n",
        "  for _, config in z_var_set:\n",
        "    print(config)"
      ],
      "execution_count": 255,
      "outputs": [
        {
          "output_type": "stream",
          "name": "stdout",
          "text": [
            "p_Near_RT: ('p_near-RT-0', 'server_11'), p_OCU: ('p_O-CU-0', 'server_6'), p_ODU: ('p_O-DU-0', 'server_5'), b_Near_RT: ('b_near-RT-0', 'server_0'), b_OCU: ('b_O-CU-0', 'server_7'), b_ODU:('b_O-DU-0', 'server_2')\n"
          ]
        }
      ]
    },
    {
      "cell_type": "code",
      "metadata": {
        "id": "rF6SufY6wGJx"
      },
      "source": [
        "#from google.colab import drive\n",
        "#drive.mount('/content/drive')"
      ],
      "execution_count": null,
      "outputs": []
    },
    {
      "cell_type": "code",
      "metadata": {
        "id": "5eBSuqm06jQF"
      },
      "source": [
        "# for i in range(nearRT_counts):\n",
        "#   print(new_configurations[i])"
      ],
      "execution_count": null,
      "outputs": []
    }
  ]
}